{
 "cells": [
  {
   "cell_type": "code",
   "execution_count": 1,
   "metadata": {},
   "outputs": [
    {
     "name": "stderr",
     "output_type": "stream",
     "text": [
      "2023-11-04 17:49:04.592013: E tensorflow/compiler/xla/stream_executor/cuda/cuda_dnn.cc:9342] Unable to register cuDNN factory: Attempting to register factory for plugin cuDNN when one has already been registered\n",
      "2023-11-04 17:49:04.592056: E tensorflow/compiler/xla/stream_executor/cuda/cuda_fft.cc:609] Unable to register cuFFT factory: Attempting to register factory for plugin cuFFT when one has already been registered\n",
      "2023-11-04 17:49:04.592108: E tensorflow/compiler/xla/stream_executor/cuda/cuda_blas.cc:1518] Unable to register cuBLAS factory: Attempting to register factory for plugin cuBLAS when one has already been registered\n",
      "2023-11-04 17:49:04.603313: I tensorflow/core/platform/cpu_feature_guard.cc:182] This TensorFlow binary is optimized to use available CPU instructions in performance-critical operations.\n",
      "To enable the following instructions: AVX2 FMA, in other operations, rebuild TensorFlow with the appropriate compiler flags.\n",
      "2023-11-04 17:49:05.727278: W tensorflow/compiler/tf2tensorrt/utils/py_utils.cc:38] TF-TRT Warning: Could not find TensorRT\n"
     ]
    }
   ],
   "source": [
    "import cv2\n",
    "import numpy as np \n",
    "from keras.models import model_from_json\n",
    "\n",
    "class Number_Recognizer:\n",
    "    def __init__(self):\n",
    "        self.arabic_digit = ['0', '1', '2', '3', '4', '5', '6', '7', '8', '9']\n",
    "        json_file = open(\"Characters Model/digits model json.json\", 'r')\n",
    "        loaded_model_json = json_file.read()\n",
    "        json_file.close()\n",
    "        self.loaded_model = model_from_json(loaded_model_json)\n",
    "        self.loaded_model.load_weights(\"Characters Model/digits weights.h5\")\n",
    "\n",
    "    def get_sides(self, length):\n",
    "        if length % 2 == 0:\n",
    "            return length//2,length//2\n",
    "        else:\n",
    "            return (length-1)//2,1+(length-1)//2\n",
    "\n",
    "    def preprocess(self, character):\n",
    "        (wt, ht) = (28, 28)\n",
    "        (h, w) = character.shape\n",
    "        fx = w / wt\n",
    "        fy = h / ht\n",
    "        f = max(fx, fy)\n",
    "        newSize = (max(min(wt, int(w / f)), 1), max(min(ht, int(h / f)), 1))\n",
    "        character = cv2.resize(character, newSize)\n",
    "        if character.shape[0] < 28:\n",
    "            add_zeros_up = np.zeros((self.get_sides(28-character.shape[0])[0], character.shape[1]))\n",
    "            add_zeros_down = np.zeros((self.get_sides(28-character.shape[0])[1], character.shape[1]))\n",
    "            character = np.concatenate((add_zeros_up,character))\n",
    "            character = np.concatenate((character, add_zeros_down))\n",
    "        if character.shape[1] < 28:\n",
    "            add_zeros_left = np.zeros((28, self.get_sides(28-character.shape[1])[0]))\n",
    "            add_zeros_right = np.zeros((28, self.get_sides(28-character.shape[1])[1]))\n",
    "\n",
    "            character = np.concatenate((add_zeros_left,character), axis=1)\n",
    "            character = np.concatenate((character, add_zeros_right), axis=1)\n",
    "        character= character.T/255.0\n",
    "        character = np.expand_dims(character , axis = 2)\n",
    "        return character\n",
    "\n",
    "    def ocr(self, img):\n",
    "        img  = self.preprocess(img)\n",
    "        img = img.reshape(-1,28, 28, 1)\n",
    "        pred = self.loaded_model.predict(img)\n",
    "        return self.arabic_digit[np.argmax(pred)]\n"
   ]
  }
 ],
 "metadata": {
  "kernelspec": {
   "display_name": "base",
   "language": "python",
   "name": "python3"
  },
  "language_info": {
   "codemirror_mode": {
    "name": "ipython",
    "version": 3
   },
   "file_extension": ".py",
   "mimetype": "text/x-python",
   "name": "python",
   "nbconvert_exporter": "python",
   "pygments_lexer": "ipython3",
   "version": "3.10.9"
  },
  "orig_nbformat": 4
 },
 "nbformat": 4,
 "nbformat_minor": 2
}
