{
 "cells": [
  {
   "cell_type": "code",
   "execution_count": null,
   "metadata": {},
   "outputs": [],
   "source": [
    "import cv2\n",
    "import numpy as np\n",
    "\n",
    "class Extract_Characters:\n",
    "    def extractCharacters(self, img):\n",
    "        gray_img = cv2.cvtColor(img, cv2.COLOR_RGB2GRAY)\n",
    "        ret2,binary_img = cv2.threshold(gray_img,0,255,cv2.THRESH_BINARY+cv2.THRESH_OTSU)\n",
    "        binary_img = ~binary_img\n",
    "        kernel = np.ones((3,3),np.uint8)\n",
    "        nb_components, output, stats, centroids = cv2.connectedComponentsWithStats(binary_img, connectivity=4)\n",
    "        resized_character = []\n",
    "        for i in range(len(centroids)):\n",
    "          x = stats[i, cv2.CC_STAT_LEFT]\n",
    "          y = stats[i, cv2.CC_STAT_TOP]\n",
    "          w = stats[i, cv2.CC_STAT_WIDTH]\n",
    "          h = stats[i, cv2.CC_STAT_HEIGHT]\n",
    "          if h <= 80 and h >= 20 and w >= 15 and w < 30:\n",
    "            source = binary_img[y-10:y+h+10,x:x+w]\n",
    "            source = cv2.resize(source, (32,32))\n",
    "            source = cv2.resize(source, (16,16))\n",
    "            source = cv2.copyMakeBorder(source,8,8,8,8,0)\n",
    "            resized_character.append((source, x))\n",
    "        resized_character= sorted(resized_character,key=lambda x: x[1])\n",
    "        return resized_character\n",
    "\n",
    "    def extract(self, original_img):\n",
    "        resized_img = cv2.resize(original_img, (200, 150))\n",
    "        resized_num_character = self.extractCharacters(resized_img[:, 0:100])\n",
    "        resized_char_character = self.extractCharacters(resized_img[:, 100:])\n",
    "        return [x[0] for x in resized_num_character], [x[0] for x in resized_char_character]"
   ]
  }
 ],
 "metadata": {
  "language_info": {
   "name": "python"
  },
  "orig_nbformat": 4
 },
 "nbformat": 4,
 "nbformat_minor": 2
}
